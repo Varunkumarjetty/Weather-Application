{
 "cells": [
  {
   "cell_type": "markdown",
   "id": "c506c573",
   "metadata": {},
   "source": [
    "              Development of Weather App with Python"
   ]
  },
  {
   "cell_type": "markdown",
   "id": "b53feb43",
   "metadata": {},
   "source": [
    "Importing all necessary modules for the development of the App"
   ]
  },
  {
   "cell_type": "code",
   "execution_count": 1934,
   "id": "7c8e1f93",
   "metadata": {},
   "outputs": [],
   "source": [
    "from tkinter import *"
   ]
  },
  {
   "cell_type": "code",
   "execution_count": 1935,
   "id": "f0dad2b9",
   "metadata": {},
   "outputs": [],
   "source": [
    "import tkinter as tk"
   ]
  },
  {
   "cell_type": "markdown",
   "id": "5dc7048d",
   "metadata": {},
   "source": [
    "The above line of code imports all classes, functions, and variables from the tkinter module, allowing for easy access to its entire library of graphical user interface tools."
   ]
  },
  {
   "cell_type": "code",
   "execution_count": 1936,
   "id": "e5bbacea",
   "metadata": {},
   "outputs": [],
   "source": [
    "from geopy.geocoders import Nominatim"
   ]
  },
  {
   "cell_type": "markdown",
   "id": "067816cf",
   "metadata": {},
   "source": [
    "This above code imports the Nominatim class from the geocoders module in the Geopy library, which provides tools for geocoding and reverse geocoding, i.e., converting addresses to geographic coordinates and vice versa."
   ]
  },
  {
   "cell_type": "code",
   "execution_count": 1937,
   "id": "a00abd7b",
   "metadata": {},
   "outputs": [],
   "source": [
    "from tkinter import ttk, messagebox"
   ]
  },
  {
   "cell_type": "markdown",
   "id": "b844ae56",
   "metadata": {},
   "source": [
    "The above code imports both the ttk module and the messagebox module from the tkinter library, which allows for creating themed widgets and displaying pop-up message boxes in GUI applications."
   ]
  },
  {
   "cell_type": "code",
   "execution_count": 1938,
   "id": "64f7ae44",
   "metadata": {},
   "outputs": [],
   "source": [
    "from timezonefinder import TimezoneFinder"
   ]
  },
  {
   "cell_type": "markdown",
   "id": "3e8a0bb9",
   "metadata": {},
   "source": [
    "The above code imports the TimezoneFinder class from the timezonefinder module, which provides a simple way of determining the time zone for a given latitude and longitude using OpenStreetMap data."
   ]
  },
  {
   "cell_type": "code",
   "execution_count": 1939,
   "id": "af500f37",
   "metadata": {},
   "outputs": [],
   "source": [
    "from datetime import datetime"
   ]
  },
  {
   "cell_type": "markdown",
   "id": "93f4672d",
   "metadata": {},
   "source": [
    "The above code imports the datetime class from the datetime module, which provides functionality for working with dates and times in Python."
   ]
  },
  {
   "cell_type": "code",
   "execution_count": 1940,
   "id": "47fc2443",
   "metadata": {},
   "outputs": [],
   "source": [
    "import requests"
   ]
  },
  {
   "cell_type": "markdown",
   "id": "bad4a4cf",
   "metadata": {},
   "source": [
    "This imports the requests library, which allows for making HTTP requests in Python, including sending and receiving data from web servers."
   ]
  },
  {
   "cell_type": "code",
   "execution_count": 1941,
   "id": "d56a8295",
   "metadata": {},
   "outputs": [],
   "source": [
    "import pytz"
   ]
  },
  {
   "cell_type": "markdown",
   "id": "73084c94",
   "metadata": {},
   "source": [
    "This imports the pytz module, which is a third-party Python library used for working with time zones. It provides timezone definitions, datetime manipulation, and localization capabilities."
   ]
  },
  {
   "cell_type": "code",
   "execution_count": 1942,
   "id": "5b763827",
   "metadata": {},
   "outputs": [],
   "source": [
    "root = Tk()"
   ]
  },
  {
   "cell_type": "code",
   "execution_count": 1943,
   "id": "e892c9a4",
   "metadata": {},
   "outputs": [
    {
     "data": {
      "text/plain": [
       "''"
      ]
     },
     "execution_count": 1943,
     "metadata": {},
     "output_type": "execute_result"
    }
   ],
   "source": [
    "root.title(\"Weather App\")"
   ]
  },
  {
   "cell_type": "code",
   "execution_count": 1944,
   "id": "7d9ef1e5",
   "metadata": {},
   "outputs": [
    {
     "data": {
      "text/plain": [
       "''"
      ]
     },
     "execution_count": 1944,
     "metadata": {},
     "output_type": "execute_result"
    }
   ],
   "source": [
    "root.geometry(\"900x500+300+200\")"
   ]
  },
  {
   "cell_type": "code",
   "execution_count": 1945,
   "id": "f9e0e9cf",
   "metadata": {},
   "outputs": [
    {
     "data": {
      "text/plain": [
       "''"
      ]
     },
     "execution_count": 1945,
     "metadata": {},
     "output_type": "execute_result"
    }
   ],
   "source": [
    "root.resizable(False,False)"
   ]
  },
  {
   "cell_type": "markdown",
   "id": "439a219c",
   "metadata": {},
   "source": [
    "The above codes creates a new main window for a GUI application, setting the window title to \"Weather App\", specifying the window's dimensions and position on the screen, and disabl resizing of the window in both dimensions using the resizable() method."
   ]
  },
  {
   "cell_type": "code",
   "execution_count": 1946,
   "id": "c1f79af5",
   "metadata": {},
   "outputs": [],
   "source": [
    "def getWeather():\n",
    "    city=textfield.get()\n",
    "    try:\n",
    "        geolocator = Nominatim(user_agent=\"geoapiExercises\")\n",
    "        location = geolocator.geocode(city)\n",
    "        obj = TimezoneFinder()\n",
    "        result = obj.timezone_at(lng=location.longitude,lat = location.latitude)\n",
    "        home = pytz.timezone(result)\n",
    "        local_time = datetime.now(home)\n",
    "        current_time = local_time.strftime(\"%I:%M %p\")\n",
    "        clock.config(text=current_time)\n",
    "        name.config(text=\"CURRRENT WEATHER\")\n",
    "    \n",
    "        #Weather\n",
    "        api = \"https://api.openweathermap.org/data/2.5/weather?q=\"+city+\"&appid=76bd0826d73c858f9a56f1bfd778736f\"\n",
    "    \n",
    "        json_data = requests.get(api).json()\n",
    "        condition = json_data['weather'][0]['main']\n",
    "        description = json_data['weather'][0][\"description\"]\n",
    "        temp = int(json_data[\"main\"][\"temp\"]-273.15)\n",
    "        pressure = json_data[\"main\"]['pressure']\n",
    "        humidity = json_data[\"main\"][\"humidity\"]\n",
    "        wind = json_data[\"wind\"][\"speed\"]\n",
    "    \n",
    "        t.config(text = (temp,\"°\"))\n",
    "        c.config(text=(condition,\"|\",\"FEELS\",\"LIKE\",temp,\"°\"))\n",
    "    \n",
    "        w.config(text=wind)\n",
    "        h.config(text=humidity)\n",
    "        d.config(text=description)\n",
    "        p.config(text=pressure)\n",
    "        \n",
    "    except Exception as e:\n",
    "        messagebox.showerror('Weather App',\"Invalid Entry!!\")\n",
    "    "
   ]
  },
  {
   "cell_type": "markdown",
   "id": "ed563733",
   "metadata": {},
   "source": [
    "The above codes defines a function called getWeather() that retrieves the current weather and time information for a given city. It first gets the city name entered from the textfield. Then, it uses the geopy library to get the latitude and longitude of the city, which is used to get the timezone of the city using the TimezoneFinder module from pytz.\n",
    "\n",
    "After getting the timezone, it uses the datetime module from pytz to get the current time in that timezone, which is displayed on a clock widget in the GUI. The api variable contains the OpenWeatherMap API URL with the city name entered by the user as a parameter, which is used to get the current weather data for that city.\n",
    "\n",
    "The weather data is then parsed from the JSON response using the json module from the requests library. Finally, the temperature, condition, wind speed, humidity, pressure, and description are displayed on their respective widgets in the GUI.\n",
    "\n",
    "If there is any exception encountered while running the code, such as invalid user input, a messagebox is displayed with an error message indicating \"Invalid Entry!!\". This function is designed to be used as a part of my weather app project."
   ]
  },
  {
   "cell_type": "markdown",
   "id": "78d24b03",
   "metadata": {},
   "source": [
    "Search Box"
   ]
  },
  {
   "cell_type": "code",
   "execution_count": 1947,
   "id": "1ecd4072",
   "metadata": {},
   "outputs": [],
   "source": [
    "Search_image = PhotoImage(file = \"search.png\")"
   ]
  },
  {
   "cell_type": "code",
   "execution_count": 1948,
   "id": "f72041a8",
   "metadata": {},
   "outputs": [],
   "source": [
    "image = Label(image = Search_image)"
   ]
  },
  {
   "cell_type": "code",
   "execution_count": 1949,
   "id": "523353cb",
   "metadata": {},
   "outputs": [],
   "source": [
    "image.place(x = 20, y = 20)"
   ]
  },
  {
   "cell_type": "markdown",
   "id": "b8df162a",
   "metadata": {},
   "source": [
    "The abbove codes load an image file and use it to create a Tkinter Label widget. The widget is positioned on the window at coordinates (20, 20) using the place geometry manager."
   ]
  },
  {
   "cell_type": "code",
   "execution_count": 1950,
   "id": "42905a24",
   "metadata": {},
   "outputs": [],
   "source": [
    "textfield = tk.Entry(root,justify ='center',width=17,font=(\"Verdana\",25,\"bold\"),bg= \"#444444\", border=0, fg = \"#D3D3D3\")"
   ]
  },
  {
   "cell_type": "code",
   "execution_count": 1951,
   "id": "4b981a03",
   "metadata": {},
   "outputs": [],
   "source": [
    "textfield.place(x=45, y=40)"
   ]
  },
  {
   "cell_type": "code",
   "execution_count": 1952,
   "id": "b0678b9d",
   "metadata": {},
   "outputs": [],
   "source": [
    "textfield.focus()"
   ]
  },
  {
   "cell_type": "markdown",
   "id": "53098803",
   "metadata": {},
   "source": [
    "The above code creates an entry widget with a dark grey background, places it on a tkinter window or frame at position (45, 40), and sets the focus on the widget."
   ]
  },
  {
   "cell_type": "code",
   "execution_count": 1953,
   "id": "a2944e53",
   "metadata": {},
   "outputs": [],
   "source": [
    "Search_icon = PhotoImage(file = \"search_icon.png\")"
   ]
  },
  {
   "cell_type": "code",
   "execution_count": 1954,
   "id": "9f0eca65",
   "metadata": {},
   "outputs": [],
   "source": [
    "myimage_icon = Button(image= Search_icon, borderwidth=0, cursor=\"hand2\",bg=\"#404040\",command=getWeather)\n"
   ]
  },
  {
   "cell_type": "code",
   "execution_count": 1955,
   "id": "b7d0c427",
   "metadata": {},
   "outputs": [],
   "source": [
    "myimage_icon.place(x=400,y=34)"
   ]
  },
  {
   "cell_type": "markdown",
   "id": "3f4f7306",
   "metadata": {},
   "source": [
    "This code creates a button with an image of a search icon, places it on a tkinter window or frame at position (400, 34), and sets the background color of the button to dark grey."
   ]
  },
  {
   "cell_type": "markdown",
   "id": "37f85bec",
   "metadata": {},
   "source": [
    "Logo"
   ]
  },
  {
   "cell_type": "code",
   "execution_count": 1956,
   "id": "78270e85",
   "metadata": {},
   "outputs": [],
   "source": [
    "Logo_image=PhotoImage(file=\"logo.png\")"
   ]
  },
  {
   "cell_type": "code",
   "execution_count": 1957,
   "id": "edcf2152",
   "metadata": {},
   "outputs": [],
   "source": [
    "logo=Label(image=Logo_image)"
   ]
  },
  {
   "cell_type": "code",
   "execution_count": 1958,
   "id": "1cf2ae14",
   "metadata": {},
   "outputs": [],
   "source": [
    "logo.place(x=150,y=100)"
   ]
  },
  {
   "cell_type": "markdown",
   "id": "0cc6dce1",
   "metadata": {},
   "source": [
    "The above code loads an image file of a logo, creates a label with the logo image, and places the label on a tkinter window or frame at position (150, 100)."
   ]
  },
  {
   "cell_type": "markdown",
   "id": "728fcf2d",
   "metadata": {},
   "source": [
    "Bottom Box"
   ]
  },
  {
   "cell_type": "code",
   "execution_count": 1959,
   "id": "9e01f032",
   "metadata": {},
   "outputs": [],
   "source": [
    "Frame_image=PhotoImage(file=\"box.png\")"
   ]
  },
  {
   "cell_type": "code",
   "execution_count": 1960,
   "id": "744ccb3a",
   "metadata": {},
   "outputs": [],
   "source": [
    "frame_myimage= Label(image=Frame_image)"
   ]
  },
  {
   "cell_type": "code",
   "execution_count": 1961,
   "id": "4c3609e8",
   "metadata": {},
   "outputs": [],
   "source": [
    "frame_myimage.pack(padx=5,pady=5,side=BOTTOM)"
   ]
  },
  {
   "cell_type": "markdown",
   "id": "8b75828c",
   "metadata": {},
   "source": [
    "The above code loads an image file of a box frame, creates a label with the frame image, and packs the label onto a tkinter window or frame with 5 pixels of padding on each side and aligned to the bottom of the parent widget."
   ]
  },
  {
   "cell_type": "markdown",
   "id": "9bc5a963",
   "metadata": {},
   "source": [
    "Time"
   ]
  },
  {
   "cell_type": "code",
   "execution_count": 1962,
   "id": "4fe4e96d",
   "metadata": {},
   "outputs": [],
   "source": [
    "name = Label(root,font=(\"arial\",15,\"bold\"))\n",
    "name.place(x=30,y=100)"
   ]
  },
  {
   "cell_type": "code",
   "execution_count": 1963,
   "id": "15b6242f",
   "metadata": {},
   "outputs": [],
   "source": [
    "clock = Label(root,font=(\"Helvetica\",20))\n",
    "clock.place(x=30,y=130)"
   ]
  },
  {
   "cell_type": "markdown",
   "id": "b27245a6",
   "metadata": {},
   "source": [
    "The above codes create two labels in the GUI window of the weather app. The first label is named \"name\" and is styled using the Arial font with a size of 15 and bold text. It is positioned at x-coordinate 30 and y-coordinate 100. The second label is named \"clock\" and is styled using the Helvetica font with a size of 20. It is positioned at x-coordinate 30 and y-coordinate 130."
   ]
  },
  {
   "cell_type": "markdown",
   "id": "d661290e",
   "metadata": {},
   "source": [
    "Label"
   ]
  },
  {
   "cell_type": "code",
   "execution_count": 1964,
   "id": "081d1f4c",
   "metadata": {},
   "outputs": [],
   "source": [
    "label1 = Label(root,text='WIND',font=('Helvetica',15,'bold'),fg='white',bg='#1ab5ef')"
   ]
  },
  {
   "cell_type": "code",
   "execution_count": 1965,
   "id": "70f359c4",
   "metadata": {},
   "outputs": [],
   "source": [
    "label1.place(x=120,y=400)"
   ]
  },
  {
   "cell_type": "code",
   "execution_count": 1966,
   "id": "8615e303",
   "metadata": {},
   "outputs": [],
   "source": [
    "label2 = Label(root,text='HUMIDITY',font=('Helvetica',15,'bold'),fg='white',bg='#1ab5ef')"
   ]
  },
  {
   "cell_type": "code",
   "execution_count": 1967,
   "id": "d6a7f6b8",
   "metadata": {},
   "outputs": [],
   "source": [
    "label2.place(x=250,y=400)"
   ]
  },
  {
   "cell_type": "code",
   "execution_count": 1968,
   "id": "7553094f",
   "metadata": {},
   "outputs": [],
   "source": [
    "label3 = Label(root,text='DESCRIPTION',font=('Helvetica',15,'bold'),fg='white',bg='#1ab5ef')"
   ]
  },
  {
   "cell_type": "code",
   "execution_count": 1969,
   "id": "8ea62d9c",
   "metadata": {},
   "outputs": [],
   "source": [
    "label3.place(x=430,y=400)"
   ]
  },
  {
   "cell_type": "code",
   "execution_count": 1970,
   "id": "eeeb5c2c",
   "metadata": {},
   "outputs": [],
   "source": [
    "label4 = Label(root,text='PRESSURE',font=('Helvetica',15,'bold'),fg='white',bg='#1ab5ef')"
   ]
  },
  {
   "cell_type": "code",
   "execution_count": 1971,
   "id": "dbbd8626",
   "metadata": {},
   "outputs": [],
   "source": [
    "label4.place(x=650,y=400)"
   ]
  },
  {
   "cell_type": "markdown",
   "id": "a4a1f0a7",
   "metadata": {},
   "source": [
    "The above codes creates a label with the text 'WIND', using the font 'Helvetica' with size 15 and bold weight. The label has a foreground color of white and a background color of '#1ab5ef', and is placed at position (120, 400) on a tkinter window or frame and the same for the corresponding codes"
   ]
  },
  {
   "cell_type": "code",
   "execution_count": 1972,
   "id": "0b81eda1",
   "metadata": {},
   "outputs": [],
   "source": [
    "t = Label(font=(\"arial\",70,\"bold\"),fg=\"#ee666d\")\n",
    "t.place(x=400,y=150)"
   ]
  },
  {
   "cell_type": "code",
   "execution_count": 1973,
   "id": "4f2d61d0",
   "metadata": {},
   "outputs": [],
   "source": [
    "c = Label(font=('arial',15,\"bold\"))\n",
    "c.place(x=400,y=250)"
   ]
  },
  {
   "cell_type": "markdown",
   "id": "27352d27",
   "metadata": {},
   "source": [
    "The above lines of code create two labels in the GUI window of the weather app. The first label is named \"t\" and is styled using the Arial font with a size of 70 and bold text. It also has a foreground color set to #ee666d. It is positioned at x-coordinate 400 and y-coordinate 150. The second label is named \"c\" and is styled using the Arial font with a size of 15 and bold text. It is positioned at x-coordinate 400 and y-coordinate 250."
   ]
  },
  {
   "cell_type": "code",
   "execution_count": 1974,
   "id": "2d684fff",
   "metadata": {},
   "outputs": [],
   "source": [
    "w = Label(text=\"...\",font=('arial',20,\"bold\"),bg=\"#1ab5ef\")\n",
    "w.place(x=120,y=430)"
   ]
  },
  {
   "cell_type": "code",
   "execution_count": 1975,
   "id": "95242d7a",
   "metadata": {},
   "outputs": [],
   "source": [
    "h = Label(text=\"...\",font=('arial',20,\"bold\"),bg=\"#1ab5ef\")\n",
    "h.place(x=280,y=430)"
   ]
  },
  {
   "cell_type": "code",
   "execution_count": 1976,
   "id": "bcd5dbea",
   "metadata": {},
   "outputs": [],
   "source": [
    "d = Label(text=\"...\",font=('arial',20,\"bold\"),bg=\"#1ab5ef\")\n",
    "d.place(x=450,y=430)"
   ]
  },
  {
   "cell_type": "code",
   "execution_count": 1977,
   "id": "5c7f0834",
   "metadata": {},
   "outputs": [],
   "source": [
    "p = Label(text=\"...\",font=('arial',20,\"bold\"),bg=\"#1ab5ef\")\n",
    "p.place(x=670,y=430)"
   ]
  },
  {
   "cell_type": "markdown",
   "id": "46aec391",
   "metadata": {},
   "source": [
    "The above lines of code create four labels w, h, d, and p, which display weather information such as wind speed, humidity, description, and pressure respectively. They are placed on the graphical user interface (GUI) window at specific positions (x and y coordinates). The font and background color of each label are also specified."
   ]
  },
  {
   "cell_type": "code",
   "execution_count": 1978,
   "id": "9cd58aac",
   "metadata": {},
   "outputs": [],
   "source": [
    "root.mainloop()"
   ]
  },
  {
   "cell_type": "markdown",
   "id": "9b72a342",
   "metadata": {},
   "source": [
    "root.mainloop() is a method in Tkinter library which runs the main event loop of the application, waiting for events to occur and responding to them."
   ]
  },
  {
   "cell_type": "code",
   "execution_count": null,
   "id": "b69a7904",
   "metadata": {},
   "outputs": [],
   "source": []
  }
 ],
 "metadata": {
  "kernelspec": {
   "display_name": "Python 3 (ipykernel)",
   "language": "python",
   "name": "python3"
  },
  "language_info": {
   "codemirror_mode": {
    "name": "ipython",
    "version": 3
   },
   "file_extension": ".py",
   "mimetype": "text/x-python",
   "name": "python",
   "nbconvert_exporter": "python",
   "pygments_lexer": "ipython3",
   "version": "3.9.12"
  }
 },
 "nbformat": 4,
 "nbformat_minor": 5
}
